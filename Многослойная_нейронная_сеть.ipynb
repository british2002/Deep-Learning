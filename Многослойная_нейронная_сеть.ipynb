{
  "cells": [
    {
      "cell_type": "markdown",
      "metadata": {
        "id": "Aguff2Bh-qU1"
      },
      "source": [
        "# Домашнее задание по теме «Многослойная нейронная сеть»\n",
        "\n",
        "**Цель задания:** научиться на простейшем уровне подбирать архитектуру полносвязной нейронной сети для получения качества решения задачи не ниже заданного."
      ]
    },
    {
      "cell_type": "markdown",
      "metadata": {
        "id": "f79FC8B2-yqR"
      },
      "source": [
        "# Задание\n",
        "\n",
        "Постройте модель на основе полносвязных слоёв для классификации Fashion MNIST из библиотеки torchvision (datasets).\n",
        "Получите качество на тестовой выборке не ниже 88%"
      ]
    },
    {
      "cell_type": "code",
      "source": [
        "#импорт пакетов для работы\n",
        "import pandas as pd\n",
        "import numpy as np\n",
        "import torch\n",
        "import matplotlib.pyplot as plt\n",
        "%matplotlib inline\n",
        "import torchvision as tv\n",
        "import time"
      ],
      "metadata": {
        "id": "eUErLEYtOKkP"
      },
      "execution_count": null,
      "outputs": []
    },
    {
      "cell_type": "code",
      "source": [
        "#создаем тренировочный и тестовый наборы данных\n",
        "BATCH_SIZE=256\n",
        "\n",
        "train_dataset = tv.datasets.MNIST('F_MNIST_data', train=True, transform=tv.transforms.ToTensor(), download=True)\n",
        "test_dataset = tv.datasets.MNIST('F_MNIST_data', train=False, transform=tv.transforms.ToTensor(), download=True)\n",
        "train = torch.utils.data.DataLoader(train_dataset, batch_size=BATCH_SIZE)\n",
        "test = torch.utils.data.DataLoader(test_dataset, batch_size=BATCH_SIZE)\n"
      ],
      "metadata": {
        "id": "llAfjqXzOKgL"
      },
      "execution_count": null,
      "outputs": []
    },
    {
      "cell_type": "code",
      "source": [
        "#посмотрим на тренировочный сет\n",
        "train_dataset"
      ],
      "metadata": {
        "colab": {
          "base_uri": "https://localhost:8080/"
        },
        "id": "I_R-qMwpOKdC",
        "outputId": "c880c872-e6c8-4a62-9f23-d74a1848cb91"
      },
      "execution_count": null,
      "outputs": [
        {
          "output_type": "execute_result",
          "data": {
            "text/plain": [
              "Dataset MNIST\n",
              "    Number of datapoints: 60000\n",
              "    Root location: F_MNIST_data\n",
              "    Split: Train\n",
              "    StandardTransform\n",
              "Transform: ToTensor()"
            ]
          },
          "metadata": {},
          "execution_count": 3
        }
      ]
    },
    {
      "cell_type": "code",
      "source": [
        "train_dataset[0][0].shape"
      ],
      "metadata": {
        "colab": {
          "base_uri": "https://localhost:8080/"
        },
        "id": "IVHDWUoVOKVK",
        "outputId": "620d3d59-2306-41de-ccb4-d6050a8c8a1c"
      },
      "execution_count": null,
      "outputs": [
        {
          "output_type": "execute_result",
          "data": {
            "text/plain": [
              "torch.Size([1, 28, 28])"
            ]
          },
          "metadata": {},
          "execution_count": 4
        }
      ]
    },
    {
      "cell_type": "code",
      "source": [
        "#посмотрим на тестовый сет\n",
        "test_dataset"
      ],
      "metadata": {
        "colab": {
          "base_uri": "https://localhost:8080/"
        },
        "id": "rl-vNSdqOKZX",
        "outputId": "768fd2de-5f01-44ab-8a55-411f26426463"
      },
      "execution_count": null,
      "outputs": [
        {
          "output_type": "execute_result",
          "data": {
            "text/plain": [
              "Dataset MNIST\n",
              "    Number of datapoints: 10000\n",
              "    Root location: F_MNIST_data\n",
              "    Split: Test\n",
              "    StandardTransform\n",
              "Transform: ToTensor()"
            ]
          },
          "metadata": {},
          "execution_count": 5
        }
      ]
    },
    {
      "cell_type": "code",
      "source": [
        "#создадим простую архитектуру модели из 4 слоев\n",
        "model = torch.nn.Sequential(\n",
        "    torch.nn.Flatten(),\n",
        "    torch.nn.Linear(784, 256),\n",
        "    torch.nn.ReLU(),\n",
        "    torch.nn.Linear(256, 10)\n",
        ")\n",
        "\n",
        "#посмотрим на результат\n",
        "model"
      ],
      "metadata": {
        "colab": {
          "base_uri": "https://localhost:8080/"
        },
        "id": "wVmlZ89POKQa",
        "outputId": "0bce4d76-1495-4fef-9530-e5def6c76bca"
      },
      "execution_count": null,
      "outputs": [
        {
          "output_type": "execute_result",
          "data": {
            "text/plain": [
              "Sequential(\n",
              "  (0): Flatten(start_dim=1, end_dim=-1)\n",
              "  (1): Linear(in_features=784, out_features=256, bias=True)\n",
              "  (2): ReLU()\n",
              "  (3): Linear(in_features=256, out_features=10, bias=True)\n",
              ")"
            ]
          },
          "metadata": {},
          "execution_count": 6
        }
      ]
    },
    {
      "cell_type": "code",
      "source": [
        "#зададим дополнительные параметры для обучения\n",
        "loss = torch.nn.CrossEntropyLoss()\n",
        "trainer = torch.optim.SGD(model.parameters(), lr=.01)\n",
        "num_epochs = 10"
      ],
      "metadata": {
        "id": "uztoo7ZNOKJW"
      },
      "execution_count": null,
      "outputs": []
    },
    {
      "cell_type": "code",
      "source": [
        "#опишем функию обучения\n",
        "def train_model():\n",
        "    for ep in range(num_epochs):\n",
        "        train_iters, train_passed  = 0, 0\n",
        "        train_loss, train_acc = 0., 0.\n",
        "        start=time.time()\n",
        "\n",
        "        model.train()\n",
        "        for X, y in train:\n",
        "            trainer.zero_grad()\n",
        "            y_pred = model(X)\n",
        "            l = loss(y_pred, y)\n",
        "            l.backward()\n",
        "            trainer.step()\n",
        "            train_loss += l.item()\n",
        "            train_acc += (y_pred.argmax(dim=1) == y).sum().item()\n",
        "            train_iters += 1\n",
        "            train_passed += len(X)\n",
        "\n",
        "        test_iters, test_passed  = 0, 0\n",
        "        test_loss, test_acc = 0., 0.\n",
        "        model.eval()\n",
        "        for X, y in test:\n",
        "            y_pred = model(X)\n",
        "            l = loss(y_pred, y)\n",
        "            test_loss += l.item()\n",
        "            test_acc += (y_pred.argmax(dim=1) == y).sum().item()\n",
        "            test_iters += 1\n",
        "            test_passed += len(X)\n",
        "\n",
        "        print(\"ep: {}, taked: {:.3f}, train_loss: {}, train_acc: {}, test_loss: {}, test_acc: {}\".format(\n",
        "            ep, time.time() - start, train_loss / train_iters, train_acc / train_passed,\n",
        "            test_loss / test_iters, test_acc / test_passed)\n",
        "        )"
      ],
      "metadata": {
        "id": "_EQUU2X9OKGA"
      },
      "execution_count": null,
      "outputs": []
    },
    {
      "cell_type": "code",
      "source": [
        "#обучим модель\n",
        "train_model()"
      ],
      "metadata": {
        "colab": {
          "base_uri": "https://localhost:8080/"
        },
        "id": "5XJb7kRKOKB5",
        "outputId": "882f8022-1f0d-41bc-c83d-d37dcf963635"
      },
      "execution_count": null,
      "outputs": [
        {
          "output_type": "stream",
          "name": "stdout",
          "text": [
            "ep: 0, taked: 9.933, train_loss: 2.027061049988929, train_acc: 0.6004666666666667, test_loss: 1.6700386911630631, test_acc: 0.7525\n",
            "ep: 1, taked: 9.870, train_loss: 1.3201248825864589, train_acc: 0.7859833333333334, test_loss: 0.9937987864017487, test_acc: 0.8212\n",
            "ep: 2, taked: 9.017, train_loss: 0.8535227657632625, train_acc: 0.8301166666666666, test_loss: 0.7032222546637058, test_acc: 0.8488\n",
            "ep: 3, taked: 9.934, train_loss: 0.6565881427298201, train_acc: 0.8516833333333333, test_loss: 0.572273439541459, test_acc: 0.8666\n",
            "ep: 4, taked: 9.889, train_loss: 0.5580019723861775, train_acc: 0.86445, test_loss: 0.4993649713695049, test_acc: 0.8771\n",
            "ep: 5, taked: 9.990, train_loss: 0.49919871618138983, train_acc: 0.87335, test_loss: 0.453103581815958, test_acc: 0.8844\n",
            "ep: 6, taked: 8.985, train_loss: 0.4601395341944187, train_acc: 0.8799833333333333, test_loss: 0.4212162496522069, test_acc: 0.8901\n",
            "ep: 7, taked: 9.867, train_loss: 0.43225716789986224, train_acc: 0.88485, test_loss: 0.3979058826342225, test_acc: 0.8951\n",
            "ep: 8, taked: 10.069, train_loss: 0.41126611930258733, train_acc: 0.8892666666666666, test_loss: 0.3800534076988697, test_acc: 0.8975\n",
            "ep: 9, taked: 10.359, train_loss: 0.394779084305814, train_acc: 0.89245, test_loss: 0.3658694105222821, test_acc: 0.9006\n"
          ]
        }
      ]
    }
  ],
  "metadata": {
    "colab": {
      "provenance": []
    },
    "kernelspec": {
      "display_name": "Python 3",
      "name": "python3"
    },
    "language_info": {
      "name": "python"
    }
  },
  "nbformat": 4,
  "nbformat_minor": 0
}